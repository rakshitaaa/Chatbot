{
  "nbformat": 4,
  "nbformat_minor": 0,
  "metadata": {
    "colab": {
      "name": "BotMusk.ipynb",
      "provenance": []
    },
    "kernelspec": {
      "display_name": "Python 3",
      "name": "python3"
    }
  },
  "cells": [
    {
      "cell_type": "markdown",
      "metadata": {
        "id": "lmBHVTztmbxV"
      },
      "source": [
        "##BotMusk"
      ]
    },
    {
      "cell_type": "code",
      "metadata": {
        "colab": {
          "base_uri": "https://localhost:8080/"
        },
        "id": "Z_P9CkS6ehUB",
        "outputId": "fe3ee43d-24fc-4f47-8386-08661b8e63fa"
      },
      "source": [
        "pip install nltk\n"
      ],
      "execution_count": 1,
      "outputs": [
        {
          "output_type": "stream",
          "text": [
            "Requirement already satisfied: nltk in /usr/local/lib/python3.7/dist-packages (3.2.5)\n",
            "Requirement already satisfied: six in /usr/local/lib/python3.7/dist-packages (from nltk) (1.15.0)\n"
          ],
          "name": "stdout"
        }
      ]
    },
    {
      "cell_type": "code",
      "metadata": {
        "colab": {
          "base_uri": "https://localhost:8080/"
        },
        "id": "8FG8Ez5gmoxz",
        "outputId": "c9ea30c1-e04f-46db-fae7-89dfdd6d1b68"
      },
      "source": [
        "pip install newspaper3k"
      ],
      "execution_count": 2,
      "outputs": [
        {
          "output_type": "stream",
          "text": [
            "Collecting newspaper3k\n",
            "\u001b[?25l  Downloading https://files.pythonhosted.org/packages/d7/b9/51afecb35bb61b188a4b44868001de348a0e8134b4dfa00ffc191567c4b9/newspaper3k-0.2.8-py3-none-any.whl (211kB)\n",
            "\u001b[K     |████████████████████████████████| 215kB 5.3MB/s \n",
            "\u001b[?25hRequirement already satisfied: requests>=2.10.0 in /usr/local/lib/python3.7/dist-packages (from newspaper3k) (2.23.0)\n",
            "Collecting tldextract>=2.0.1\n",
            "\u001b[?25l  Downloading https://files.pythonhosted.org/packages/7e/62/b6acd3129c5615b9860e670df07fd55b76175b63e6b7f68282c7cad38e9e/tldextract-3.1.0-py2.py3-none-any.whl (87kB)\n",
            "\u001b[K     |████████████████████████████████| 92kB 4.8MB/s \n",
            "\u001b[?25hCollecting feedfinder2>=0.0.4\n",
            "  Downloading https://files.pythonhosted.org/packages/35/82/1251fefec3bb4b03fd966c7e7f7a41c9fc2bb00d823a34c13f847fd61406/feedfinder2-0.0.4.tar.gz\n",
            "Requirement already satisfied: lxml>=3.6.0 in /usr/local/lib/python3.7/dist-packages (from newspaper3k) (4.2.6)\n",
            "Collecting feedparser>=5.2.1\n",
            "\u001b[?25l  Downloading https://files.pythonhosted.org/packages/85/03/9d7165252bf748e7fc3fb73f19cba46f279d6b90850e1a16ca700ae91642/feedparser-6.0.5-py3-none-any.whl (80kB)\n",
            "\u001b[K     |████████████████████████████████| 81kB 5.6MB/s \n",
            "\u001b[?25hRequirement already satisfied: python-dateutil>=2.5.3 in /usr/local/lib/python3.7/dist-packages (from newspaper3k) (2.8.1)\n",
            "Requirement already satisfied: PyYAML>=3.11 in /usr/local/lib/python3.7/dist-packages (from newspaper3k) (3.13)\n",
            "Collecting tinysegmenter==0.3\n",
            "  Downloading https://files.pythonhosted.org/packages/17/82/86982e4b6d16e4febc79c2a1d68ee3b707e8a020c5d2bc4af8052d0f136a/tinysegmenter-0.3.tar.gz\n",
            "Requirement already satisfied: nltk>=3.2.1 in /usr/local/lib/python3.7/dist-packages (from newspaper3k) (3.2.5)\n",
            "Requirement already satisfied: Pillow>=3.3.0 in /usr/local/lib/python3.7/dist-packages (from newspaper3k) (7.1.2)\n",
            "Collecting jieba3k>=0.35.1\n",
            "\u001b[?25l  Downloading https://files.pythonhosted.org/packages/a9/cb/2c8332bcdc14d33b0bedd18ae0a4981a069c3513e445120da3c3f23a8aaa/jieba3k-0.35.1.zip (7.4MB)\n",
            "\u001b[K     |████████████████████████████████| 7.4MB 9.2MB/s \n",
            "\u001b[?25hRequirement already satisfied: beautifulsoup4>=4.4.1 in /usr/local/lib/python3.7/dist-packages (from newspaper3k) (4.6.3)\n",
            "Collecting cssselect>=0.9.2\n",
            "  Downloading https://files.pythonhosted.org/packages/3b/d4/3b5c17f00cce85b9a1e6f91096e1cc8e8ede2e1be8e96b87ce1ed09e92c5/cssselect-1.1.0-py2.py3-none-any.whl\n",
            "Requirement already satisfied: chardet<4,>=3.0.2 in /usr/local/lib/python3.7/dist-packages (from requests>=2.10.0->newspaper3k) (3.0.4)\n",
            "Requirement already satisfied: certifi>=2017.4.17 in /usr/local/lib/python3.7/dist-packages (from requests>=2.10.0->newspaper3k) (2020.12.5)\n",
            "Requirement already satisfied: urllib3!=1.25.0,!=1.25.1,<1.26,>=1.21.1 in /usr/local/lib/python3.7/dist-packages (from requests>=2.10.0->newspaper3k) (1.24.3)\n",
            "Requirement already satisfied: idna<3,>=2.5 in /usr/local/lib/python3.7/dist-packages (from requests>=2.10.0->newspaper3k) (2.10)\n",
            "Collecting requests-file>=1.4\n",
            "  Downloading https://files.pythonhosted.org/packages/77/86/cdb5e8eaed90796aa83a6d9f75cfbd37af553c47a291cd47bc410ef9bdb2/requests_file-1.5.1-py2.py3-none-any.whl\n",
            "Requirement already satisfied: filelock>=3.0.8 in /usr/local/lib/python3.7/dist-packages (from tldextract>=2.0.1->newspaper3k) (3.0.12)\n",
            "Requirement already satisfied: six in /usr/local/lib/python3.7/dist-packages (from feedfinder2>=0.0.4->newspaper3k) (1.15.0)\n",
            "Collecting sgmllib3k\n",
            "  Downloading https://files.pythonhosted.org/packages/9e/bd/3704a8c3e0942d711c1299ebf7b9091930adae6675d7c8f476a7ce48653c/sgmllib3k-1.0.0.tar.gz\n",
            "Building wheels for collected packages: feedfinder2, tinysegmenter, jieba3k, sgmllib3k\n",
            "  Building wheel for feedfinder2 (setup.py) ... \u001b[?25l\u001b[?25hdone\n",
            "  Created wheel for feedfinder2: filename=feedfinder2-0.0.4-cp37-none-any.whl size=3358 sha256=0b532a18a21e8e5bf84998f030944d4eaca9baf85ce23daa1f8568c57b58de5b\n",
            "  Stored in directory: /root/.cache/pip/wheels/de/03/ca/778e3a7a627e3d98836cc890e7cb40c7575424cfd3340f40ed\n",
            "  Building wheel for tinysegmenter (setup.py) ... \u001b[?25l\u001b[?25hdone\n",
            "  Created wheel for tinysegmenter: filename=tinysegmenter-0.3-cp37-none-any.whl size=13553 sha256=86c42193dc5d72c9b963295f74c91cbc9ca2ff53e32dd4bcfaf2f56741544722\n",
            "  Stored in directory: /root/.cache/pip/wheels/81/2b/43/a02ede72324dd40cdd7ca53aad718c7710628e91b8b0dc0f02\n",
            "  Building wheel for jieba3k (setup.py) ... \u001b[?25l\u001b[?25hdone\n",
            "  Created wheel for jieba3k: filename=jieba3k-0.35.1-cp37-none-any.whl size=7398404 sha256=e998e0ad5c45fec379fcf9e23f73ebc1d1d888924a25dbf1bfe21e4c8a395add\n",
            "  Stored in directory: /root/.cache/pip/wheels/83/15/9c/a3f1f67e7f7181170ad37d32e503c35da20627c013f438ed34\n",
            "  Building wheel for sgmllib3k (setup.py) ... \u001b[?25l\u001b[?25hdone\n",
            "  Created wheel for sgmllib3k: filename=sgmllib3k-1.0.0-cp37-none-any.whl size=6067 sha256=d53903930d0958a5ffa58752d16c559b9677434d23b3cfec6af1e86d3f3ddd70\n",
            "  Stored in directory: /root/.cache/pip/wheels/f1/80/5a/444ba08a550cdd241bd9baf8bae44be750efe370adb944506a\n",
            "Successfully built feedfinder2 tinysegmenter jieba3k sgmllib3k\n",
            "Installing collected packages: requests-file, tldextract, feedfinder2, sgmllib3k, feedparser, tinysegmenter, jieba3k, cssselect, newspaper3k\n",
            "Successfully installed cssselect-1.1.0 feedfinder2-0.0.4 feedparser-6.0.5 jieba3k-0.35.1 newspaper3k-0.2.8 requests-file-1.5.1 sgmllib3k-1.0.0 tinysegmenter-0.3 tldextract-3.1.0\n"
          ],
          "name": "stdout"
        }
      ]
    },
    {
      "cell_type": "markdown",
      "metadata": {
        "id": "S03XE7Gbm9HH"
      },
      "source": [
        "##Importing The Libraries"
      ]
    },
    {
      "cell_type": "code",
      "metadata": {
        "id": "XFmztE7Nm57X"
      },
      "source": [
        "from newspaper import Article\n",
        "import random\n",
        "import string\n",
        "import nltk\n",
        "from sklearn.feature_extraction.text import CountVectorizer\n",
        "from sklearn.metrics.pairwise import cosine_similarity\n",
        "import numpy as np\n",
        "import warnings\n",
        "warnings.filterwarnings('ignore')"
      ],
      "execution_count": 3,
      "outputs": []
    },
    {
      "cell_type": "code",
      "metadata": {
        "colab": {
          "base_uri": "https://localhost:8080/"
        },
        "id": "uzxkPGuFny7u",
        "outputId": "3ddadfd4-806f-41bd-cf62-3937f1454b36"
      },
      "source": [
        "#Downloading the punkt package\n",
        "nltk.download('punkt', quiet=True)"
      ],
      "execution_count": 4,
      "outputs": [
        {
          "output_type": "execute_result",
          "data": {
            "text/plain": [
              "True"
            ]
          },
          "metadata": {
            "tags": []
          },
          "execution_count": 4
        }
      ]
    },
    {
      "cell_type": "code",
      "metadata": {
        "id": "tjiQ9S67oH42"
      },
      "source": [
        "#Get the Article\n",
        "article = Article('https://www.biography.com/business-figure/elon-musk')\n",
        "article.download()\n",
        "article.parse()\n",
        "article.nlp()\n",
        "corpus = article.text"
      ],
      "execution_count": 5,
      "outputs": []
    },
    {
      "cell_type": "code",
      "metadata": {
        "colab": {
          "base_uri": "https://localhost:8080/"
        },
        "id": "-BLxpF-OpZ5L",
        "outputId": "de6ec38a-55bc-48c9-8922-ce021aac6f67"
      },
      "source": [
        "#Print the article's text\n",
        "print(corpus)"
      ],
      "execution_count": 6,
      "outputs": [
        {
          "output_type": "stream",
          "text": [
            "Who Is Elon Musk?\n",
            "\n",
            "Elon Musk is a South African-born American entrepreneur and businessman who founded X.com in 1999 (which later became PayPal), SpaceX in 2002 and Tesla Motors in 2003. Musk became a multimillionaire in his late 20s when he sold his start-up company, Zip2, to a division of Compaq Computers.\n",
            "\n",
            "Musk made headlines in May 2012, when SpaceX launched a rocket that would send the first commercial vehicle to the International Space Station. He bolstered his portfolio with the purchase of SolarCity in 2016 and cemented his standing as a leader of industry by taking on an advisory role in the early days of President Donald Trump's administration.\n",
            "\n",
            "In January 2021, Musk reportedly surpassed Jeff Bezos as the wealthiest man in the world.\n",
            "\n",
            "Early Life\n",
            "\n",
            "Musk was born on June 28, 1971, in Pretoria, South Africa. As a child, Musk was so lost in his daydreams about inventions that his parents and doctors ordered a test to check his hearing.\n",
            "\n",
            "At about the time of his parents’ divorce, when he was 10, Musk developed an interest in computers. He taught himself how to program, and when he was 12 he sold his first software: a game he created called Blastar.\n",
            "\n",
            "In grade school, Musk was short, introverted and bookish. He was bullied until he was 15 and went through a growth spurt and learned how to defend himself with karate and wrestling.\n",
            "\n",
            "Family\n",
            "\n",
            "Musk’s mother, Maye Musk, is a Canadian model and the oldest woman to star in a Covergirl campaign. When Musk was growing up, she worked five jobs at one point to support her family.\n",
            "\n",
            "Musk’s father, Errol Musk, is a wealthy South African engineer.\n",
            "\n",
            "Musk spent his early childhood with his brother Kimbal and sister Tosca in South Africa. His parents divorced when he was 10.\n",
            "\n",
            "Education\n",
            "\n",
            "At age 17, in 1989, Musk moved to Canada to attend Queen’s University and avoid mandatory service in the South African military. Musk obtained his Canadian citizenship that year, in part because he felt it would be easier to obtain American citizenship via that path.\n",
            "\n",
            "In 1992, Musk left Canada to study business and physics at the University of Pennsylvania. He graduated with an undergraduate degree in economics and stayed for a second bachelor’s degree in physics.\n",
            "\n",
            "After leaving Penn, Musk headed to Stanford University in California to pursue a PhD in energy physics. However, his move was timed perfectly with the Internet boom, and he dropped out of Stanford after just two days to become a part of it, launching his first company, Zip2 Corporation in 1995. Musk became a U.S. citizen in 2002.\n",
            "\n",
            "Companies\n",
            "\n",
            "Zip2 Corporation\n",
            "\n",
            "Musk launched his first company, Zip2 Corporation, in 1995 with his brother, Kimbal Musk. An online city guide, Zip2 was soon providing content for the new websites of both The New York Times and the Chicago Tribune. In 1999, a division of Compaq Computer Corporation bought Zip2 for $307 million in cash and $34 million in stock options.\n",
            "\n",
            "PayPal\n",
            "\n",
            "In 1999, Elon and Kimbal Musk used the money from their sale of Zip2 to found X.com, an online financial services/payments company. An X.com acquisition the following year led to the creation of PayPal as it is known today.\n",
            "\n",
            "In October 2002, Musk earned his first billion when PayPal was acquired by eBay for $1.5 billion in stock. Before the sale, Musk owned 11 percent of PayPal stock.\n",
            "\n",
            "SpaceX\n",
            "\n",
            "Musk founded his third company, Space Exploration Technologies Corporation, or SpaceX, in 2002 with the intention of building spacecraft for commercial space travel. By 2008, SpaceX was well established, and NASA awarded the company the contract to handle cargo transport for the International Space Station—with plans for astronaut transport in the future—in a move to replace NASA’s own space shuttle missions.\n",
            "\n",
            "Elon Musk poses for a portrait in Los Angeles, California, on July 25, 2008. Photo: Dan Tuffs/Getty Images\n",
            "\n",
            "Falcon 9 Rockets\n",
            "\n",
            "On May 22, 2012, Musk and SpaceX made history when the company launched its Falcon 9 rocket into space with an unmanned capsule. The vehicle was sent to the International Space Station with 1,000 pounds of supplies for the astronauts stationed there, marking the first time a private company had sent a spacecraft to the International Space Station. Of the launch, Musk was quoted as saying, \"I feel very lucky. ... For us, it's like winning the Super Bowl.\"\n",
            "\n",
            "In December 2013, a Falcon 9 successfully carried a satellite to geosynchronous transfer orbit, a distance at which the satellite would lock into an orbital path that matched the Earth's rotation. In February 2015, SpaceX launched another Falcon 9 fitted with the Deep Space Climate Observatory (DSCOVR) satellite, aiming to observe the extreme emissions from the sun that affect power grids and communications systems on Earth.\n",
            "\n",
            "In March 2017, SpaceX saw the successful test flight and landing of a Falcon 9 rocket made from reusable parts, a development that opened the door for more affordable space travel.\n",
            "\n",
            "A setback came in November 2017, when an explosion occurred during a test of the company's new Block 5 Merlin engine. SpaceX reported that no one was hurt, and that the issue would not hamper its planned rollout of a future generation of Falcon 9 rockets.\n",
            "\n",
            "The company enjoyed another milestone moment in February 2018 with the successful test launch of the powerful Falcon Heavy rocket. Armed with additional Falcon 9 boosters, the Falcon Heavy was designed to carry immense payloads into orbit and potentially serve as a vessel for deep space missions. For the test launch, the Falcon Heavy was given a payload of Musk's cherry-red Tesla Roadster, equipped with cameras to \"provide some epic views\" for the vehicle's planned orbit around the sun.\n",
            "\n",
            "In July 2018, Space X enjoyed the successful landing of a new Block 5 Falcon rocket, which touched down on a drone ship less than 9 minutes after liftoff.\n",
            "\n",
            "BFR Mission to Mars\n",
            "\n",
            "In September 2017, Musk presented an updated design plan for his BFR (an acronym for either \"Big F---ing Rocket\" or \"Big Falcon Rocket\"), a 31-engine behemoth topped by a spaceship capable of carrying at least 100 people. He revealed that SpaceX was aiming to launch the first cargo missions to Mars with the vehicle in 2022, as part of his overarching goal of colonizing the Red Planet.\n",
            "\n",
            "In March 2018, the entrepreneur told an audience at the annual South by Southwest festival in Austin, Texas, that he hoped to have the BFR ready for short flights early the following year, while delivering a knowing nod at his previous problems with meeting deadlines.\n",
            "\n",
            "The following month, it was announced that SpaceX would construct a facility at the Port of Los Angeles to build and house the BFR. The port property presented an ideal location for SpaceX, as its mammoth rocket will only be movable by barge or ship when completed.\n",
            "\n",
            "Starlink Internet Satellites\n",
            "\n",
            "In late March 2018, SpaceX received permission from the U.S. government to launch a fleet of satellites into low orbit for the purpose of providing Internet service. The satellite network, named Starlink, would ideally make broadband service more accessible in rural areas, while also boosting competition in heavily populated markets that are typically dominated by one or two providers.\n",
            "\n",
            "SpaceX launched the first batch of 60 satellites in May 2019, and followed with another payload of 60 satellites that November. While this represented significant progress for the Starlink venture, the appearance of these bright orbiters in the night sky, with the potential of thousands more to come, worried astronomers who felt that a proliferation of satellites would increase the difficulty of studying distant objects in space.\n",
            "\n",
            "Tesla Motors\n",
            "\n",
            "Musk is the co-founder, CEO and product architect at Tesla Motors, a company formed in 2003 that is dedicated to producing affordable, mass-market electric cars as well as battery products and solar roofs. Musk oversees all product development, engineering and design of the company's products.\n",
            "\n",
            "Roadster\n",
            "\n",
            "Five years after its formation, in March 2008, Tesla unveiled the Roadster, a sports car capable of accelerating from 0 to 60 mph in 3.7 seconds, as well as traveling nearly 250 miles between charges of its lithium ion battery.\n",
            "\n",
            "With a stake in the company taken by Daimler and a strategic partnership with Toyota, Tesla Motors launched its initial public offering in June 2010, raising $226 million.\n",
            "\n",
            "Model S\n",
            "\n",
            "In August 2008, Tesla announced plans for its Model S, the company's first electric sedan that was reportedly meant to take on the BMW 5 series. In 2012, the Model S finally entered production at a starting price of $58,570. Capable of covering 265 miles between charges, it was honored as the 2013 Car of the Year by Motor Trend magazine.\n",
            "\n",
            "In April 2017, Tesla announced that it surpassed General Motors to become the most valuable U.S. car maker. The news was an obvious boon to Tesla, which was looking to ramp up production and release its Model 3 sedan later that year.\n",
            "\n",
            "In September 2019, using what Musk described as a \"Plaid powertrain,\" a Model S set a speed record for four-door sedan at Laguna Seca Raceway in Monterey County, California.\n",
            "\n",
            "Model 3\n",
            "\n",
            "The Model 3 was officially launched in early 2019 following extensive production delays. The car was initially priced at $35,000, a much more accessible price point than the $69,500 and up for its Model S and X electric sedans.\n",
            "\n",
            "After initially aiming to produce 5,000 new Model 3 cars per week by December 2017, Musk pushed that goal back to March 2018, and then to June with the start of the new year. The announced delay didn't surprise industry experts, who were well aware of the company's production problems, though some questioned how long investors would remain patient with the process. It also didn't prevent Musk from garnering a radical new compensation package as CEO, in which he would be paid after reaching milestones of growing valuation based on $50 billion increments.\n",
            "\n",
            "By April 2018, with Tesla expected to fall short of first-quarter production forecasts, news surfaced that Musk had pushed aside the head of engineering to personally oversee efforts in that division. In a Twitter exchange with a reporter, Musk said it was important to \"divide and conquer\" to meet production goals and was \"back to sleeping at factory.\"\n",
            "\n",
            "After signaling that the company would reorganize its management structure, Musk in June announced that Tesla was laying off 9 percent of its workforce, though its production department would remain intact. In an email to employees, Musk explained his decision to eliminate some \"duplication of roles\" to cut costs, admitting it was time to take serious steps toward turning a profit.\n",
            "\n",
            "The restructuring appeared to pay dividends, as it was announced that Tesla had met its goal of producing 5,000 Model 3 cars per week by the end of June 2018, while churning out another 2,000 Model S sedans and Model X SUVs. \"We did it!\" Musk wrote in a celebratory email to the company. \"What an incredible job by an amazing team.\"\n",
            "\n",
            "The following February, Musk announced that the company was finally rolling out its standard Model 3. Musk also said that Tesla was shifting to all-online sales, and offering customers the chance to return their cars within seven days or 1,000 miles for a full refund.\n",
            "\n",
            "Semi Truck\n",
            "\n",
            "In November 2017, Musk made another splash with the unveiling of the new Tesla Semi and Roadster at the company's design studio. The semi-truck, which was expected to enter into production in 2019 before being delayed, boasts 500 miles of range as well as a battery and motors built to last 1 million miles.\n",
            "\n",
            "Model Y and Roadster\n",
            "\n",
            "In March 2019, Musk unveiled Tesla’s long-awaited Model Y. The compact crossover, which began arriving for customers in March 2020, has a driving range of 300 miles and a 0 to 60 mph time of 3.5 seconds.\n",
            "\n",
            "The Roadster, also set to be released in 2020, will become the fastest production car ever made, with a 0 to 60 time of 1.9 seconds.\n",
            "\n",
            "SolarCity\n",
            "\n",
            "In August 2016, in Musk’s continuing effort to promote and advance sustainable energy and products for a wider consumer base, a $2.6 billion dollar deal was solidified to combine his electric car and solar energy companies. His Tesla Motors Inc. announced an all-stock deal purchase of SolarCity Corp., a company Musk had helped his cousins start in 2006. He is a majority shareholder in each entity.\n",
            "\n",
            "“Solar and storage are at their best when they're combined. As one company, Tesla (storage) and SolarCity (solar) can create fully integrated residential, commercial and grid-scale products that improve the way that energy is generated, stored and consumed,” read a statement on Tesla’s website about the deal.\n",
            "\n",
            "The Boring Company\n",
            "\n",
            "In January 2017, Musk launched The Boring Company, a company devoted to boring and building tunnels in order to reduce street traffic. He began with a test dig on the SpaceX property in Los Angeles.\n",
            "\n",
            "In late October of that year, Musk posted the first photo of his company's progress to his Instagram page. He said the 500-foot tunnel, which would generally run parallel to Interstate 405, would reach a length of two miles in approximately four months.\n",
            "\n",
            "In May 2019 the company, now known as TBC, landed a $48.7 million contract from the Las Vegas Convention and Visitors Authority to build an underground Loop system to shuttle people around the Las Vegas Convention Center.\n",
            "\n",
            "Musk’s Tweet and SEC Investigation\n",
            "\n",
            "On August 7, 2018, Musk dropped a bombshell via a tweet: \"Am considering taking Tesla private at $420. Funding secured.\" The announcement opened the door for legal action against the company and its founder, as the SEC began inquiring about whether Musk had indeed secured the funding as claimed. Several investors filed lawsuits on the grounds that Musk was looking to manipulate stock prices and ambush short sellers with his tweet.\n",
            "\n",
            "Musk’s tweet initially sent Tesla stock spiking, before it closed the day up 11 percent. The CEO followed up with a letter on the company blog, calling the move to go private \"the best path forward.\" He promised to retain his stake in the company, and added that he would create a special fund to help all current investors remain on board.\n",
            "\n",
            "Six days later, Musk sought to clarify his position with a statement in which he pointed to discussions with the managing director of the Saudi Arabian sovereign wealth fund as the source of his \"funding secured\" declaration. He later tweeted that he was working on a proposal to take Tesla private with Goldman Sachs and Silver Lake as financial advisers.\n",
            "\n",
            "The saga took a bizarre turn that day when rapper Azealia Banks wrote on Instagram that, as a guest at Musk's home at the time, she learned that he was under the influence of LSD when he fired off his headline-grabbing tweet. Banks said she overheard Musk making phone calls to drum up the funding he promised was already in place.\n",
            "\n",
            "The news quickly turned serious again when it was reported that Tesla's outside directors had retained two law firms to deal with the SEC inquiry and the CEO's plans to take the company private.\n",
            "\n",
            "On August 24, one day after meeting with the board, Musk announced that he had reversed course and would not be taking the company private. Among his reasons, he cited the preference of most directors to keep Tesla public, as well as the difficulty of retaining some of the large shareholders who were prohibited from investing in a private company. Others suggested that Musk was also influenced by the poor optics of an electric car company being funded by Saudi Arabia, a country heavily involved in the oil industry.\n",
            "\n",
            "On September 29, 2018, it was announced that Musk would pay a $20 million fine and step down as chairman of Tesla's board for three years as part of an agreement with the SEC.\n",
            "\n",
            "Inventions and Innovations\n",
            "\n",
            "Hyperloop\n",
            "\n",
            "In August 2013, Musk released a concept for a new form of transportation called the \"Hyperloop,\" an invention that would foster commuting between major cities while severely cutting travel time. Ideally resistant to weather and powered by renewable energy, the Hyperloop would propel riders in pods through a network of low-pressure tubes at speeds reaching more than 700 mph. Musk noted that the Hyperloop could take from seven to 10 years to be built and ready for use.\n",
            "\n",
            "Although he introduced the Hyperloop with claims that it would be safer than a plane or train, with an estimated cost of $6 billion — approximately one-tenth of the cost for the rail system planned by the state of California — Musk's concept has drawn skepticism. Nevertheless, the entrepreneur has sought to encourage the development of this idea.\n",
            "\n",
            "After he announced a competition for teams to submit their designs for a Hyperloop pod prototype, the first Hyperloop Pod Competition was held at the SpaceX facility in January 2017. A speed record of 284 mph was set by a German student engineering team at competition No. 3 in 2018, with the same team pushing the record to 287 mph the next year.\n",
            "\n",
            "AI and Neuralink\n",
            "\n",
            "Musk has pursued an interest in artificial intelligence, becoming co-chair of the nonprofit OpenAI. The research company launched in late 2015 with the stated mission of advancing digital intelligence to benefit humanity.\n",
            "\n",
            "In 2017, it was also reported that Musk was backing a venture called Neuralink, which intends to create devices to be implanted in the human brain and help people merge with software. He expanded on the company's progress during a July 2019 discussion, revealing that its devices will consist of a microscopic chip that connects via Bluetooth to a smartphone.\n",
            "\n",
            "High-Speed Train\n",
            "\n",
            "In late November 2017, after Chicago Mayor Rahm Emanuel asked for proposals to build and operate a high-speed rail line that would transport passengers from O'Hare Airport to downtown Chicago in 20 minutes or less, Musk tweeted that he was all-in on the competition with The Boring Company. He said that the concept of the Chicago loop would be different from his Hyperloop, its relatively short route not requiring the need for drawing a vacuum to eliminate air friction.\n",
            "\n",
            "In summer 2018 Musk announced he would cover the estimated $1 billion needed to dig the 17-mile tunnel from the airport to downtown Chicago. However, in late 2019 he tweeted that TBC would focus on completing the commercial tunnel in Las Vegas before turning to other projects, suggesting that plans for Chicago would remain in limbo for the immediate future.\n",
            "\n",
            "Flamethrower\n",
            "\n",
            "Musk also reportedly found a market for The Boring Company's flamethrowers. After announcing they were going on sale for $500 apiece in late January 2018, he claimed to have sold 10,000 of them within a day.\n",
            "\n",
            "Relationship with Donald Trump\n",
            "\n",
            "In December 2016, Musk was named to President Trump’s Strategy and Policy Forum; the following January, he joined Trump's Manufacturing Jobs Initiative. Following Trump’s election, Musk found himself on common ground with the new president and his advisers as the president announced plans to pursue massive infrastructure developments.\n",
            "\n",
            "While sometimes at odds with the president's controversial measures, such as a proposed ban on immigrants from Muslim-majority countries, Musk defended his involvement with the new administration. \"My goals,\" he tweeted in early 2017, \"are to accelerate the world’s transition to sustainable energy and to help make humanity a multi-planet civilization, a consequence of which will be the creating of hundreds of thousands of jobs and a more inspiring future for all.\"\n",
            "\n",
            "On June 1, following Trump's announcement that he was withdrawing the U.S. from the Paris climate accord, Musk stepped down from his advisory roles.\n",
            "\n",
            "Personal Life\n",
            "\n",
            "Wives and Children\n",
            "\n",
            "Musk has been married twice. He wed Justine Wilson in 2000, and the couple had six children together. In 2002, their first son died at 10 weeks old from sudden infant death syndrome (SIDS). Musk and Wilson had five additional sons together: twins Griffin and Xavier (born in 2004) and triplets Kai, Saxon and Damian (born in 2006).\n",
            "\n",
            "After a contentious divorce from Wilson, Musk met actress Talulah Riley. The couple married in 2010. They split in 2012 but married each other again in 2013. Their relationship ultimately ended in divorce in 2016.\n",
            "\n",
            "Girlfriends\n",
            "\n",
            "Musk reportedly began dating actress Amber Heard in 2016 after finalizing his divorce with Riley and Heard finalized her divorce from Johnny Depp. Their busy schedules caused the couple to break up in August 2017; they got back together in January 2018 and split again one month later.\n",
            "\n",
            "In May 2018, Musk began dating musician Grimes (born Claire Boucher). That month, Grimes announced that she had changed her name to “c,” the symbol for the speed of light, reportedly on the encouragement of Musk. Fans criticized the feminist performer for dating a billionaire whose company has been described as a “predator zone” among accusations of sexual harassment.\n",
            "\n",
            "The couple discussed their love for one another in a March 2019 feature in the Wall Street Journal Magazine, with Grimes saying “Look, I love him, he’s great...I mean, he’s a super-interesting goddamn person.” Musk, for his part, told the Journal, “I love c’s wild fae artistic creativity and hyper intense work ethic.”\n",
            "\n",
            "Grimes gave birth to their son on May 4, 2020, with Musk announcing that they had named the boy \"X Æ A-12.\" Later in the month, after it was reported that the State of California wouldn't accept a name with a number, the couple said they were changing their son's name to \"X Æ A-Xii.\"\n",
            "\n",
            "Nonprofit Work\n",
            "\n",
            "The boundless potential of space exploration and the preservation of the future of the human race have become the cornerstones of Musk's abiding interests, and toward these he has founded the Musk Foundation, which is dedicated to space exploration and the discovery of renewable and clean energy sources.\n",
            "\n",
            "In October 2019 Musk pledged to donate $1 million to the #TeamTrees campaign, which aims to plant 20 million trees around the world by 2020. He even changed his Twitter name to Treelon for the occasion.\n"
          ],
          "name": "stdout"
        }
      ]
    },
    {
      "cell_type": "code",
      "metadata": {
        "id": "86I4_IcHpwUf"
      },
      "source": [
        "#Tokenization\n",
        "text = corpus\n",
        "sentence_list = nltk.sent_tokenize(text) #A list of sentences"
      ],
      "execution_count": 7,
      "outputs": []
    },
    {
      "cell_type": "code",
      "metadata": {
        "colab": {
          "base_uri": "https://localhost:8080/"
        },
        "id": "a3xXY2eip_Gx",
        "outputId": "e5a7953d-e699-4f9c-aa91-dd46ff9180ce"
      },
      "source": [
        "#Print the list of snetences\n",
        "print(sentence_list)"
      ],
      "execution_count": 8,
      "outputs": [
        {
          "output_type": "stream",
          "text": [
            "['Who Is Elon Musk?', 'Elon Musk is a South African-born American entrepreneur and businessman who founded X.com in 1999 (which later became PayPal), SpaceX in 2002 and Tesla Motors in 2003.', 'Musk became a multimillionaire in his late 20s when he sold his start-up company, Zip2, to a division of Compaq Computers.', 'Musk made headlines in May 2012, when SpaceX launched a rocket that would send the first commercial vehicle to the International Space Station.', \"He bolstered his portfolio with the purchase of SolarCity in 2016 and cemented his standing as a leader of industry by taking on an advisory role in the early days of President Donald Trump's administration.\", 'In January 2021, Musk reportedly surpassed Jeff Bezos as the wealthiest man in the world.', 'Early Life\\n\\nMusk was born on June 28, 1971, in Pretoria, South Africa.', 'As a child, Musk was so lost in his daydreams about inventions that his parents and doctors ordered a test to check his hearing.', 'At about the time of his parents’ divorce, when he was 10, Musk developed an interest in computers.', 'He taught himself how to program, and when he was 12 he sold his first software: a game he created called Blastar.', 'In grade school, Musk was short, introverted and bookish.', 'He was bullied until he was 15 and went through a growth spurt and learned how to defend himself with karate and wrestling.', 'Family\\n\\nMusk’s mother, Maye Musk, is a Canadian model and the oldest woman to star in a Covergirl campaign.', 'When Musk was growing up, she worked five jobs at one point to support her family.', 'Musk’s father, Errol Musk, is a wealthy South African engineer.', 'Musk spent his early childhood with his brother Kimbal and sister Tosca in South Africa.', 'His parents divorced when he was 10.', 'Education\\n\\nAt age 17, in 1989, Musk moved to Canada to attend Queen’s University and avoid mandatory service in the South African military.', 'Musk obtained his Canadian citizenship that year, in part because he felt it would be easier to obtain American citizenship via that path.', 'In 1992, Musk left Canada to study business and physics at the University of Pennsylvania.', 'He graduated with an undergraduate degree in economics and stayed for a second bachelor’s degree in physics.', 'After leaving Penn, Musk headed to Stanford University in California to pursue a PhD in energy physics.', 'However, his move was timed perfectly with the Internet boom, and he dropped out of Stanford after just two days to become a part of it, launching his first company, Zip2 Corporation in 1995.', 'Musk became a U.S. citizen in 2002.', 'Companies\\n\\nZip2 Corporation\\n\\nMusk launched his first company, Zip2 Corporation, in 1995 with his brother, Kimbal Musk.', 'An online city guide, Zip2 was soon providing content for the new websites of both The New York Times and the Chicago Tribune.', 'In 1999, a division of Compaq Computer Corporation bought Zip2 for $307 million in cash and $34 million in stock options.', 'PayPal\\n\\nIn 1999, Elon and Kimbal Musk used the money from their sale of Zip2 to found X.com, an online financial services/payments company.', 'An X.com acquisition the following year led to the creation of PayPal as it is known today.', 'In October 2002, Musk earned his first billion when PayPal was acquired by eBay for $1.5 billion in stock.', 'Before the sale, Musk owned 11 percent of PayPal stock.', 'SpaceX\\n\\nMusk founded his third company, Space Exploration Technologies Corporation, or SpaceX, in 2002 with the intention of building spacecraft for commercial space travel.', 'By 2008, SpaceX was well established, and NASA awarded the company the contract to handle cargo transport for the International Space Station—with plans for astronaut transport in the future—in a move to replace NASA’s own space shuttle missions.', 'Elon Musk poses for a portrait in Los Angeles, California, on July 25, 2008.', 'Photo: Dan Tuffs/Getty Images\\n\\nFalcon 9 Rockets\\n\\nOn May 22, 2012, Musk and SpaceX made history when the company launched its Falcon 9 rocket into space with an unmanned capsule.', 'The vehicle was sent to the International Space Station with 1,000 pounds of supplies for the astronauts stationed there, marking the first time a private company had sent a spacecraft to the International Space Station.', 'Of the launch, Musk was quoted as saying, \"I feel very lucky.', '... For us, it\\'s like winning the Super Bowl.\"', \"In December 2013, a Falcon 9 successfully carried a satellite to geosynchronous transfer orbit, a distance at which the satellite would lock into an orbital path that matched the Earth's rotation.\", 'In February 2015, SpaceX launched another Falcon 9 fitted with the Deep Space Climate Observatory (DSCOVR) satellite, aiming to observe the extreme emissions from the sun that affect power grids and communications systems on Earth.', 'In March 2017, SpaceX saw the successful test flight and landing of a Falcon 9 rocket made from reusable parts, a development that opened the door for more affordable space travel.', \"A setback came in November 2017, when an explosion occurred during a test of the company's new Block 5 Merlin engine.\", 'SpaceX reported that no one was hurt, and that the issue would not hamper its planned rollout of a future generation of Falcon 9 rockets.', 'The company enjoyed another milestone moment in February 2018 with the successful test launch of the powerful Falcon Heavy rocket.', 'Armed with additional Falcon 9 boosters, the Falcon Heavy was designed to carry immense payloads into orbit and potentially serve as a vessel for deep space missions.', 'For the test launch, the Falcon Heavy was given a payload of Musk\\'s cherry-red Tesla Roadster, equipped with cameras to \"provide some epic views\" for the vehicle\\'s planned orbit around the sun.', 'In July 2018, Space X enjoyed the successful landing of a new Block 5 Falcon rocket, which touched down on a drone ship less than 9 minutes after liftoff.', 'BFR Mission to Mars\\n\\nIn September 2017, Musk presented an updated design plan for his BFR (an acronym for either \"Big F---ing Rocket\" or \"Big Falcon Rocket\"), a 31-engine behemoth topped by a spaceship capable of carrying at least 100 people.', 'He revealed that SpaceX was aiming to launch the first cargo missions to Mars with the vehicle in 2022, as part of his overarching goal of colonizing the Red Planet.', 'In March 2018, the entrepreneur told an audience at the annual South by Southwest festival in Austin, Texas, that he hoped to have the BFR ready for short flights early the following year, while delivering a knowing nod at his previous problems with meeting deadlines.', 'The following month, it was announced that SpaceX would construct a facility at the Port of Los Angeles to build and house the BFR.', 'The port property presented an ideal location for SpaceX, as its mammoth rocket will only be movable by barge or ship when completed.', 'Starlink Internet Satellites\\n\\nIn late March 2018, SpaceX received permission from the U.S. government to launch a fleet of satellites into low orbit for the purpose of providing Internet service.', 'The satellite network, named Starlink, would ideally make broadband service more accessible in rural areas, while also boosting competition in heavily populated markets that are typically dominated by one or two providers.', 'SpaceX launched the first batch of 60 satellites in May 2019, and followed with another payload of 60 satellites that November.', 'While this represented significant progress for the Starlink venture, the appearance of these bright orbiters in the night sky, with the potential of thousands more to come, worried astronomers who felt that a proliferation of satellites would increase the difficulty of studying distant objects in space.', 'Tesla Motors\\n\\nMusk is the co-founder, CEO and product architect at Tesla Motors, a company formed in 2003 that is dedicated to producing affordable, mass-market electric cars as well as battery products and solar roofs.', \"Musk oversees all product development, engineering and design of the company's products.\", 'Roadster\\n\\nFive years after its formation, in March 2008, Tesla unveiled the Roadster, a sports car capable of accelerating from 0 to 60 mph in 3.7 seconds, as well as traveling nearly 250 miles between charges of its lithium ion battery.', 'With a stake in the company taken by Daimler and a strategic partnership with Toyota, Tesla Motors launched its initial public offering in June 2010, raising $226 million.', \"Model S\\n\\nIn August 2008, Tesla announced plans for its Model S, the company's first electric sedan that was reportedly meant to take on the BMW 5 series.\", 'In 2012, the Model S finally entered production at a starting price of $58,570.', 'Capable of covering 265 miles between charges, it was honored as the 2013 Car of the Year by Motor Trend magazine.', 'In April 2017, Tesla announced that it surpassed General Motors to become the most valuable U.S. car maker.', 'The news was an obvious boon to Tesla, which was looking to ramp up production and release its Model 3 sedan later that year.', 'In September 2019, using what Musk described as a \"Plaid powertrain,\" a Model S set a speed record for four-door sedan at Laguna Seca Raceway in Monterey County, California.', 'Model 3\\n\\nThe Model 3 was officially launched in early 2019 following extensive production delays.', 'The car was initially priced at $35,000, a much more accessible price point than the $69,500 and up for its Model S and X electric sedans.', 'After initially aiming to produce 5,000 new Model 3 cars per week by December 2017, Musk pushed that goal back to March 2018, and then to June with the start of the new year.', \"The announced delay didn't surprise industry experts, who were well aware of the company's production problems, though some questioned how long investors would remain patient with the process.\", \"It also didn't prevent Musk from garnering a radical new compensation package as CEO, in which he would be paid after reaching milestones of growing valuation based on $50 billion increments.\", 'By April 2018, with Tesla expected to fall short of first-quarter production forecasts, news surfaced that Musk had pushed aside the head of engineering to personally oversee efforts in that division.', 'In a Twitter exchange with a reporter, Musk said it was important to \"divide and conquer\" to meet production goals and was \"back to sleeping at factory.\"', 'After signaling that the company would reorganize its management structure, Musk in June announced that Tesla was laying off 9 percent of its workforce, though its production department would remain intact.', 'In an email to employees, Musk explained his decision to eliminate some \"duplication of roles\" to cut costs, admitting it was time to take serious steps toward turning a profit.', 'The restructuring appeared to pay dividends, as it was announced that Tesla had met its goal of producing 5,000 Model 3 cars per week by the end of June 2018, while churning out another 2,000 Model S sedans and Model X SUVs.', '\"We did it!\"', 'Musk wrote in a celebratory email to the company.', '\"What an incredible job by an amazing team.\"', 'The following February, Musk announced that the company was finally rolling out its standard Model 3.', 'Musk also said that Tesla was shifting to all-online sales, and offering customers the chance to return their cars within seven days or 1,000 miles for a full refund.', \"Semi Truck\\n\\nIn November 2017, Musk made another splash with the unveiling of the new Tesla Semi and Roadster at the company's design studio.\", 'The semi-truck, which was expected to enter into production in 2019 before being delayed, boasts 500 miles of range as well as a battery and motors built to last 1 million miles.', 'Model Y and Roadster\\n\\nIn March 2019, Musk unveiled Tesla’s long-awaited Model Y.', 'The compact crossover, which began arriving for customers in March 2020, has a driving range of 300 miles and a 0 to 60 mph time of 3.5 seconds.', 'The Roadster, also set to be released in 2020, will become the fastest production car ever made, with a 0 to 60 time of 1.9 seconds.', 'SolarCity\\n\\nIn August 2016, in Musk’s continuing effort to promote and advance sustainable energy and products for a wider consumer base, a $2.6 billion dollar deal was solidified to combine his electric car and solar energy companies.', 'His Tesla Motors Inc. announced an all-stock deal purchase of SolarCity Corp., a company Musk had helped his cousins start in 2006.', 'He is a majority shareholder in each entity.', \"“Solar and storage are at their best when they're combined.\", 'As one company, Tesla (storage) and SolarCity (solar) can create fully integrated residential, commercial and grid-scale products that improve the way that energy is generated, stored and consumed,” read a statement on Tesla’s website about the deal.', 'The Boring Company\\n\\nIn January 2017, Musk launched The Boring Company, a company devoted to boring and building tunnels in order to reduce street traffic.', 'He began with a test dig on the SpaceX property in Los Angeles.', \"In late October of that year, Musk posted the first photo of his company's progress to his Instagram page.\", 'He said the 500-foot tunnel, which would generally run parallel to Interstate 405, would reach a length of two miles in approximately four months.', 'In May 2019 the company, now known as TBC, landed a $48.7 million contract from the Las Vegas Convention and Visitors Authority to build an underground Loop system to shuttle people around the Las Vegas Convention Center.', 'Musk’s Tweet and SEC Investigation\\n\\nOn August 7, 2018, Musk dropped a bombshell via a tweet: \"Am considering taking Tesla private at $420.', 'Funding secured.\"', 'The announcement opened the door for legal action against the company and its founder, as the SEC began inquiring about whether Musk had indeed secured the funding as claimed.', 'Several investors filed lawsuits on the grounds that Musk was looking to manipulate stock prices and ambush short sellers with his tweet.', 'Musk’s tweet initially sent Tesla stock spiking, before it closed the day up 11 percent.', 'The CEO followed up with a letter on the company blog, calling the move to go private \"the best path forward.\"', 'He promised to retain his stake in the company, and added that he would create a special fund to help all current investors remain on board.', 'Six days later, Musk sought to clarify his position with a statement in which he pointed to discussions with the managing director of the Saudi Arabian sovereign wealth fund as the source of his \"funding secured\" declaration.', 'He later tweeted that he was working on a proposal to take Tesla private with Goldman Sachs and Silver Lake as financial advisers.', \"The saga took a bizarre turn that day when rapper Azealia Banks wrote on Instagram that, as a guest at Musk's home at the time, she learned that he was under the influence of LSD when he fired off his headline-grabbing tweet.\", 'Banks said she overheard Musk making phone calls to drum up the funding he promised was already in place.', \"The news quickly turned serious again when it was reported that Tesla's outside directors had retained two law firms to deal with the SEC inquiry and the CEO's plans to take the company private.\", 'On August 24, one day after meeting with the board, Musk announced that he had reversed course and would not be taking the company private.', 'Among his reasons, he cited the preference of most directors to keep Tesla public, as well as the difficulty of retaining some of the large shareholders who were prohibited from investing in a private company.', 'Others suggested that Musk was also influenced by the poor optics of an electric car company being funded by Saudi Arabia, a country heavily involved in the oil industry.', \"On September 29, 2018, it was announced that Musk would pay a $20 million fine and step down as chairman of Tesla's board for three years as part of an agreement with the SEC.\", 'Inventions and Innovations\\n\\nHyperloop\\n\\nIn August 2013, Musk released a concept for a new form of transportation called the \"Hyperloop,\" an invention that would foster commuting between major cities while severely cutting travel time.', 'Ideally resistant to weather and powered by renewable energy, the Hyperloop would propel riders in pods through a network of low-pressure tubes at speeds reaching more than 700 mph.', 'Musk noted that the Hyperloop could take from seven to 10 years to be built and ready for use.', \"Although he introduced the Hyperloop with claims that it would be safer than a plane or train, with an estimated cost of $6 billion — approximately one-tenth of the cost for the rail system planned by the state of California — Musk's concept has drawn skepticism.\", 'Nevertheless, the entrepreneur has sought to encourage the development of this idea.', 'After he announced a competition for teams to submit their designs for a Hyperloop pod prototype, the first Hyperloop Pod Competition was held at the SpaceX facility in January 2017.', 'A speed record of 284 mph was set by a German student engineering team at competition No.', '3 in 2018, with the same team pushing the record to 287 mph the next year.', 'AI and Neuralink\\n\\nMusk has pursued an interest in artificial intelligence, becoming co-chair of the nonprofit OpenAI.', 'The research company launched in late 2015 with the stated mission of advancing digital intelligence to benefit humanity.', 'In 2017, it was also reported that Musk was backing a venture called Neuralink, which intends to create devices to be implanted in the human brain and help people merge with software.', \"He expanded on the company's progress during a July 2019 discussion, revealing that its devices will consist of a microscopic chip that connects via Bluetooth to a smartphone.\", \"High-Speed Train\\n\\nIn late November 2017, after Chicago Mayor Rahm Emanuel asked for proposals to build and operate a high-speed rail line that would transport passengers from O'Hare Airport to downtown Chicago in 20 minutes or less, Musk tweeted that he was all-in on the competition with The Boring Company.\", 'He said that the concept of the Chicago loop would be different from his Hyperloop, its relatively short route not requiring the need for drawing a vacuum to eliminate air friction.', 'In summer 2018 Musk announced he would cover the estimated $1 billion needed to dig the 17-mile tunnel from the airport to downtown Chicago.', 'However, in late 2019 he tweeted that TBC would focus on completing the commercial tunnel in Las Vegas before turning to other projects, suggesting that plans for Chicago would remain in limbo for the immediate future.', \"Flamethrower\\n\\nMusk also reportedly found a market for The Boring Company's flamethrowers.\", 'After announcing they were going on sale for $500 apiece in late January 2018, he claimed to have sold 10,000 of them within a day.', \"Relationship with Donald Trump\\n\\nIn December 2016, Musk was named to President Trump’s Strategy and Policy Forum; the following January, he joined Trump's Manufacturing Jobs Initiative.\", 'Following Trump’s election, Musk found himself on common ground with the new president and his advisers as the president announced plans to pursue massive infrastructure developments.', \"While sometimes at odds with the president's controversial measures, such as a proposed ban on immigrants from Muslim-majority countries, Musk defended his involvement with the new administration.\", '\"My goals,\" he tweeted in early 2017, \"are to accelerate the world’s transition to sustainable energy and to help make humanity a multi-planet civilization, a consequence of which will be the creating of hundreds of thousands of jobs and a more inspiring future for all.\"', \"On June 1, following Trump's announcement that he was withdrawing the U.S. from the Paris climate accord, Musk stepped down from his advisory roles.\", 'Personal Life\\n\\nWives and Children\\n\\nMusk has been married twice.', 'He wed Justine Wilson in 2000, and the couple had six children together.', 'In 2002, their first son died at 10 weeks old from sudden infant death syndrome (SIDS).', 'Musk and Wilson had five additional sons together: twins Griffin and Xavier (born in 2004) and triplets Kai, Saxon and Damian (born in 2006).', 'After a contentious divorce from Wilson, Musk met actress Talulah Riley.', 'The couple married in 2010.', 'They split in 2012 but married each other again in 2013.', 'Their relationship ultimately ended in divorce in 2016.', 'Girlfriends\\n\\nMusk reportedly began dating actress Amber Heard in 2016 after finalizing his divorce with Riley and Heard finalized her divorce from Johnny Depp.', 'Their busy schedules caused the couple to break up in August 2017; they got back together in January 2018 and split again one month later.', 'In May 2018, Musk began dating musician Grimes (born Claire Boucher).', 'That month, Grimes announced that she had changed her name to “c,” the symbol for the speed of light, reportedly on the encouragement of Musk.', 'Fans criticized the feminist performer for dating a billionaire whose company has been described as a “predator zone” among accusations of sexual harassment.', 'The couple discussed their love for one another in a March 2019 feature in the Wall Street Journal Magazine, with Grimes saying “Look, I love him, he’s great...I mean, he’s a super-interesting goddamn person.” Musk, for his part, told the Journal, “I love c’s wild fae artistic creativity and hyper intense work ethic.”\\n\\nGrimes gave birth to their son on May 4, 2020, with Musk announcing that they had named the boy \"X Æ A-12.\"', 'Later in the month, after it was reported that the State of California wouldn\\'t accept a name with a number, the couple said they were changing their son\\'s name to \"X Æ A-Xii.\"', \"Nonprofit Work\\n\\nThe boundless potential of space exploration and the preservation of the future of the human race have become the cornerstones of Musk's abiding interests, and toward these he has founded the Musk Foundation, which is dedicated to space exploration and the discovery of renewable and clean energy sources.\", 'In October 2019 Musk pledged to donate $1 million to the #TeamTrees campaign, which aims to plant 20 million trees around the world by 2020.', 'He even changed his Twitter name to Treelon for the occasion.']\n"
          ],
          "name": "stdout"
        }
      ]
    },
    {
      "cell_type": "code",
      "metadata": {
        "id": "b9D1RQ9bqGnu"
      },
      "source": [
        "#Creating a function tp return a random response to a user's greeting.\n",
        "def greeting_response(text):\n",
        "  text = text.lower()\n",
        "\n",
        "  #Bot's Greeting response\n",
        "  bot_greetings = ['howdy', 'hi', 'hello', 'hey', 'namaste', 'hola']\n",
        "\n",
        "  #User's greetings\n",
        "  user_greetings = ['hi', 'hola', 'hello', 'greetings', 'wassup']\n",
        "\n",
        "\n",
        "  for word in text.split():\n",
        "    if word in user_greetings:\n",
        "      return random.choice(bot_greetings)"
      ],
      "execution_count": 9,
      "outputs": []
    },
    {
      "cell_type": "code",
      "metadata": {
        "id": "-EiDEb1rE0et"
      },
      "source": [
        "def index_sort(list_var):\n",
        "  length = len(list_var)\n",
        "  list_index = list(range(0, length))\n",
        "\n",
        "  x = list_var\n",
        "  for i in range(length):\n",
        "    for j in range(length):\n",
        "      if x[list_index[i]] > x[list_index[j]]:\n",
        "      #Swap\n",
        "        temp = list_index[i]\n",
        "        list_index[i] = list_index[j]\n",
        "        list_index[j] = temp\n",
        "\n",
        "  return list_index"
      ],
      "execution_count": 10,
      "outputs": []
    },
    {
      "cell_type": "code",
      "metadata": {
        "id": "kpt88LQWrGbs"
      },
      "source": [
        "#Create the Bot's response\n",
        "def bot_response(user_input):\n",
        "  user_input = user_input.lower()\n",
        "  sentence_list.append(user_input)\n",
        "  bot_response = ''\n",
        "  cm = CountVectorizer().fit_transform(sentence_list)\n",
        "  similarity_scores = cosine_similarity(cm[-1], cm)\n",
        "  similarity_scores_list = similarity_scores.flatten()\n",
        "  index = index_sort(similarity_scores_list)\n",
        "  index = index[1:]\n",
        "  response_flag = 0\n",
        "\n",
        "  j = 0\n",
        "  for i in range(len(index)):\n",
        "    if similarity_scores_list[index[i]] > 0.0:\n",
        "      bot_response = bot_response+' '+sentence_list[index[i]]\n",
        "      response_flag = i\n",
        "      j += 1\n",
        "    if j > 2:\n",
        "      break\n",
        "\n",
        "  if response_flag == 0:\n",
        "    bot_response = bot_response+' '+\"I apologize, I don't understand\"\n",
        "\n",
        "  sentence_list.remove(user_input)\n",
        "\n",
        "  return bot_response\n"
      ],
      "execution_count": 11,
      "outputs": []
    },
    {
      "cell_type": "code",
      "metadata": {
        "colab": {
          "base_uri": "https://localhost:8080/",
          "height": 55
        },
        "id": "yRS6vFaxGtj8",
        "outputId": "3cf3e146-598d-4d1e-823d-6510d72e5cc3"
      },
      "source": [
        "'''\n",
        "user_input = 'Hello World'\n",
        "sentence_list.append(user_input)\n",
        "bot_response = ''\n",
        "cm = CountVectorizer().fit_transform(sentence_list)\n",
        "similarity_scores = cosine_similarity(cm[-1], cm)\n",
        "similarity_scores_list = similarity_scores.flatten()\n",
        "index = index_sort(similarity_scores_list)\n",
        "'''"
      ],
      "execution_count": 12,
      "outputs": [
        {
          "output_type": "execute_result",
          "data": {
            "application/vnd.google.colaboratory.intrinsic+json": {
              "type": "string"
            },
            "text/plain": [
              "\"\\nuser_input = 'Hello World'\\nsentence_list.append(user_input)\\nbot_response = ''\\ncm = CountVectorizer().fit_transform(sentence_list)\\nsimilarity_scores = cosine_similarity(cm[-1], cm)\\nsimilarity_scores_list = similarity_scores.flatten()\\nindex = index_sort(similarity_scores_list)\\n\""
            ]
          },
          "metadata": {
            "tags": []
          },
          "execution_count": 12
        }
      ]
    },
    {
      "cell_type": "code",
      "metadata": {
        "colab": {
          "base_uri": "https://localhost:8080/"
        },
        "id": "vI3tBKUPHSe7",
        "outputId": "e127772a-75d6-4056-f76e-045a4255feae"
      },
      "source": [
        "#Start Chat\n",
        "print(\"Hi I am BotMusk! I will answer your queries about my Boss. If you want to exit type: Bye\")\n",
        "\n",
        "exit_list = ['exit', 'see you later', 'bye', 'quit', 'break']\n",
        "\n",
        "while(True):\n",
        "  user_input = input()\n",
        "  if user_input.lower() in exit_list:\n",
        "    print('BotMusk: Chat with you later !')\n",
        "    break\n",
        "  else:\n",
        "    if greeting_response(user_input) != None :\n",
        "      print('BotMusk: '+greeting_response(user_input))\n",
        "    else:\n",
        "      print('BotMusk: '+bot_response(user_input)) "
      ],
      "execution_count": 17,
      "outputs": [
        {
          "output_type": "stream",
          "text": [
            "Hi I am BotMusk! I will answer your queries about my Boss. If you want to exit type: Bye\n",
            "Hello BotMusk\n",
            "BotMusk: hola\n",
            "Tell me about PayPal\n",
            "BotMusk:  Before the sale, Musk owned 11 percent of PayPal stock. At about the time of his parents’ divorce, when he was 10, Musk developed an interest in computers. An X.com acquisition the following year led to the creation of PayPal as it is known today.\n",
            "bye\n",
            "BotMusk: Chat with you later !\n"
          ],
          "name": "stdout"
        }
      ]
    }
  ]
}